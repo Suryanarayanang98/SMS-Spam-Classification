{
 "cells": [
  {
   "cell_type": "markdown",
   "metadata": {},
   "source": [
    "# Spam Classification"
   ]
  },
  {
   "cell_type": "markdown",
   "metadata": {},
   "source": [
    "This is a simple SMS spam classification model. Here this dataset is obtained from kaggle.\n",
    "\n",
    "Data Source Link: https://www.kaggle.com/uciml/sms-spam-collection-dataset\n",
    "\n",
    "Here in this dataset, I am going to perform a simple Bag of words technique for spam classification. Please Note this model may not be a very robust model, since this technique depends on the text on the data,so this might not give accurate results on recent real life spam/ham messages."
   ]
  },
  {
   "cell_type": "markdown",
   "metadata": {},
   "source": [
    "We will be using TfidfVectorizer for this project, since applies a lower weightage to those words which occurs multiple times in all text messages. TfidfVectorizer generally is a better choice CountVectorizer in this regard."
   ]
  },
  {
   "cell_type": "code",
   "execution_count": 251,
   "metadata": {},
   "outputs": [],
   "source": [
    "import numpy as np\n",
    "import pandas as pd\n",
    "import matplotlib.pyplot as plt\n",
    "import unicodedata\n",
    "import re\n",
    "from sklearn.feature_extraction.text import CountVectorizer,TfidfVectorizer\n",
    "import seaborn as sns\n",
    "import spacy \n",
    "from spacy.matcher import Matcher\n",
    "from spacy.tokens import span\n",
    "from spacy import displacy\n",
    "from sklearn.model_selection import train_test_split\n",
    "from sklearn.ensemble import RandomForestClassifier\n",
    "from sklearn.svm import SVC\n",
    "from sklearn.linear_model import LogisticRegression\n",
    "from sklearn.metrics import accuracy_score,classification_report,confusion_matrix\n",
    "from sklearn.pipeline import Pipeline\n",
    "from sklearn.compose import ColumnTransformer,make_column_transformer\n",
    "from sklearn.preprocessing import StandardScaler\n",
    "\n",
    "nlp=spacy.load('en_core_web_sm')\n"
   ]
  },
  {
   "cell_type": "markdown",
   "metadata": {},
   "source": [
    "### Collecting data into pandas"
   ]
  },
  {
   "cell_type": "code",
   "execution_count": 3,
   "metadata": {},
   "outputs": [],
   "source": [
    "df=pd.read_csv(\"spam.csv\", encoding = 'latin-1')"
   ]
  },
  {
   "cell_type": "code",
   "execution_count": 7,
   "metadata": {},
   "outputs": [
    {
     "data": {
      "text/html": [
       "<div>\n",
       "<style scoped>\n",
       "    .dataframe tbody tr th:only-of-type {\n",
       "        vertical-align: middle;\n",
       "    }\n",
       "\n",
       "    .dataframe tbody tr th {\n",
       "        vertical-align: top;\n",
       "    }\n",
       "\n",
       "    .dataframe thead th {\n",
       "        text-align: right;\n",
       "    }\n",
       "</style>\n",
       "<table border=\"1\" class=\"dataframe\">\n",
       "  <thead>\n",
       "    <tr style=\"text-align: right;\">\n",
       "      <th></th>\n",
       "      <th>v1</th>\n",
       "      <th>v2</th>\n",
       "    </tr>\n",
       "  </thead>\n",
       "  <tbody>\n",
       "    <tr>\n",
       "      <th>0</th>\n",
       "      <td>ham</td>\n",
       "      <td>Go until jurong point, crazy.. Available only ...</td>\n",
       "    </tr>\n",
       "    <tr>\n",
       "      <th>1</th>\n",
       "      <td>ham</td>\n",
       "      <td>Ok lar... Joking wif u oni...</td>\n",
       "    </tr>\n",
       "    <tr>\n",
       "      <th>2</th>\n",
       "      <td>spam</td>\n",
       "      <td>Free entry in 2 a wkly comp to win FA Cup fina...</td>\n",
       "    </tr>\n",
       "    <tr>\n",
       "      <th>3</th>\n",
       "      <td>ham</td>\n",
       "      <td>U dun say so early hor... U c already then say...</td>\n",
       "    </tr>\n",
       "    <tr>\n",
       "      <th>4</th>\n",
       "      <td>ham</td>\n",
       "      <td>Nah I don't think he goes to usf, he lives aro...</td>\n",
       "    </tr>\n",
       "  </tbody>\n",
       "</table>\n",
       "</div>"
      ],
      "text/plain": [
       "     v1                                                 v2\n",
       "0   ham  Go until jurong point, crazy.. Available only ...\n",
       "1   ham                      Ok lar... Joking wif u oni...\n",
       "2  spam  Free entry in 2 a wkly comp to win FA Cup fina...\n",
       "3   ham  U dun say so early hor... U c already then say...\n",
       "4   ham  Nah I don't think he goes to usf, he lives aro..."
      ]
     },
     "execution_count": 7,
     "metadata": {},
     "output_type": "execute_result"
    }
   ],
   "source": [
    "df.head()"
   ]
  },
  {
   "cell_type": "markdown",
   "metadata": {},
   "source": [
    "### Changing the names of columns for simplicity"
   ]
  },
  {
   "cell_type": "code",
   "execution_count": 10,
   "metadata": {},
   "outputs": [
    {
     "data": {
      "text/html": [
       "<div>\n",
       "<style scoped>\n",
       "    .dataframe tbody tr th:only-of-type {\n",
       "        vertical-align: middle;\n",
       "    }\n",
       "\n",
       "    .dataframe tbody tr th {\n",
       "        vertical-align: top;\n",
       "    }\n",
       "\n",
       "    .dataframe thead th {\n",
       "        text-align: right;\n",
       "    }\n",
       "</style>\n",
       "<table border=\"1\" class=\"dataframe\">\n",
       "  <thead>\n",
       "    <tr style=\"text-align: right;\">\n",
       "      <th></th>\n",
       "      <th>Type</th>\n",
       "      <th>Text</th>\n",
       "    </tr>\n",
       "  </thead>\n",
       "  <tbody>\n",
       "    <tr>\n",
       "      <th>0</th>\n",
       "      <td>ham</td>\n",
       "      <td>Go until jurong point, crazy.. Available only ...</td>\n",
       "    </tr>\n",
       "    <tr>\n",
       "      <th>1</th>\n",
       "      <td>ham</td>\n",
       "      <td>Ok lar... Joking wif u oni...</td>\n",
       "    </tr>\n",
       "    <tr>\n",
       "      <th>2</th>\n",
       "      <td>spam</td>\n",
       "      <td>Free entry in 2 a wkly comp to win FA Cup fina...</td>\n",
       "    </tr>\n",
       "    <tr>\n",
       "      <th>3</th>\n",
       "      <td>ham</td>\n",
       "      <td>U dun say so early hor... U c already then say...</td>\n",
       "    </tr>\n",
       "    <tr>\n",
       "      <th>4</th>\n",
       "      <td>ham</td>\n",
       "      <td>Nah I don't think he goes to usf, he lives aro...</td>\n",
       "    </tr>\n",
       "  </tbody>\n",
       "</table>\n",
       "</div>"
      ],
      "text/plain": [
       "   Type                                               Text\n",
       "0   ham  Go until jurong point, crazy.. Available only ...\n",
       "1   ham                      Ok lar... Joking wif u oni...\n",
       "2  spam  Free entry in 2 a wkly comp to win FA Cup fina...\n",
       "3   ham  U dun say so early hor... U c already then say...\n",
       "4   ham  Nah I don't think he goes to usf, he lives aro..."
      ]
     },
     "execution_count": 10,
     "metadata": {},
     "output_type": "execute_result"
    }
   ],
   "source": [
    "df.columns=['Type','Text']\n",
    "df.head()"
   ]
  },
  {
   "cell_type": "markdown",
   "metadata": {},
   "source": [
    "### Checking for null values"
   ]
  },
  {
   "cell_type": "code",
   "execution_count": 20,
   "metadata": {},
   "outputs": [
    {
     "data": {
      "text/plain": [
       "v1    0\n",
       "v2    0\n",
       "dtype: int64"
      ]
     },
     "execution_count": 20,
     "metadata": {},
     "output_type": "execute_result"
    }
   ],
   "source": [
    "df.isnull().sum()    # This gives number of Null values"
   ]
  },
  {
   "cell_type": "markdown",
   "metadata": {},
   "source": [
    "### Checking the class imbalance"
   ]
  },
  {
   "cell_type": "code",
   "execution_count": 12,
   "metadata": {},
   "outputs": [
    {
     "data": {
      "text/plain": [
       "ham     4825\n",
       "spam     747\n",
       "Name: Type, dtype: int64"
      ]
     },
     "execution_count": 12,
     "metadata": {},
     "output_type": "execute_result"
    }
   ],
   "source": [
    "df['Type'].value_counts()"
   ]
  },
  {
   "cell_type": "markdown",
   "metadata": {},
   "source": [
    "### Balancing class imbalance using RandomUndersampling"
   ]
  },
  {
   "cell_type": "code",
   "execution_count": 13,
   "metadata": {},
   "outputs": [
    {
     "data": {
      "text/html": [
       "<div>\n",
       "<style scoped>\n",
       "    .dataframe tbody tr th:only-of-type {\n",
       "        vertical-align: middle;\n",
       "    }\n",
       "\n",
       "    .dataframe tbody tr th {\n",
       "        vertical-align: top;\n",
       "    }\n",
       "\n",
       "    .dataframe thead th {\n",
       "        text-align: right;\n",
       "    }\n",
       "</style>\n",
       "<table border=\"1\" class=\"dataframe\">\n",
       "  <thead>\n",
       "    <tr style=\"text-align: right;\">\n",
       "      <th></th>\n",
       "      <th>Type</th>\n",
       "      <th>Text</th>\n",
       "    </tr>\n",
       "  </thead>\n",
       "  <tbody>\n",
       "    <tr>\n",
       "      <th>0</th>\n",
       "      <td>ham</td>\n",
       "      <td>Go until jurong point, crazy.. Available only ...</td>\n",
       "    </tr>\n",
       "    <tr>\n",
       "      <th>1</th>\n",
       "      <td>ham</td>\n",
       "      <td>Ok lar... Joking wif u oni...</td>\n",
       "    </tr>\n",
       "    <tr>\n",
       "      <th>3</th>\n",
       "      <td>ham</td>\n",
       "      <td>U dun say so early hor... U c already then say...</td>\n",
       "    </tr>\n",
       "    <tr>\n",
       "      <th>4</th>\n",
       "      <td>ham</td>\n",
       "      <td>Nah I don't think he goes to usf, he lives aro...</td>\n",
       "    </tr>\n",
       "    <tr>\n",
       "      <th>6</th>\n",
       "      <td>ham</td>\n",
       "      <td>Even my brother is not like to speak with me. ...</td>\n",
       "    </tr>\n",
       "  </tbody>\n",
       "</table>\n",
       "</div>"
      ],
      "text/plain": [
       "  Type                                               Text\n",
       "0  ham  Go until jurong point, crazy.. Available only ...\n",
       "1  ham                      Ok lar... Joking wif u oni...\n",
       "3  ham  U dun say so early hor... U c already then say...\n",
       "4  ham  Nah I don't think he goes to usf, he lives aro...\n",
       "6  ham  Even my brother is not like to speak with me. ..."
      ]
     },
     "execution_count": 13,
     "metadata": {},
     "output_type": "execute_result"
    }
   ],
   "source": [
    "ham=df[df['Type']=='ham']\n",
    "ham.head()"
   ]
  },
  {
   "cell_type": "code",
   "execution_count": 14,
   "metadata": {},
   "outputs": [
    {
     "data": {
      "text/html": [
       "<div>\n",
       "<style scoped>\n",
       "    .dataframe tbody tr th:only-of-type {\n",
       "        vertical-align: middle;\n",
       "    }\n",
       "\n",
       "    .dataframe tbody tr th {\n",
       "        vertical-align: top;\n",
       "    }\n",
       "\n",
       "    .dataframe thead th {\n",
       "        text-align: right;\n",
       "    }\n",
       "</style>\n",
       "<table border=\"1\" class=\"dataframe\">\n",
       "  <thead>\n",
       "    <tr style=\"text-align: right;\">\n",
       "      <th></th>\n",
       "      <th>Type</th>\n",
       "      <th>Text</th>\n",
       "    </tr>\n",
       "  </thead>\n",
       "  <tbody>\n",
       "    <tr>\n",
       "      <th>2</th>\n",
       "      <td>spam</td>\n",
       "      <td>Free entry in 2 a wkly comp to win FA Cup fina...</td>\n",
       "    </tr>\n",
       "    <tr>\n",
       "      <th>5</th>\n",
       "      <td>spam</td>\n",
       "      <td>FreeMsg Hey there darling it's been 3 week's n...</td>\n",
       "    </tr>\n",
       "    <tr>\n",
       "      <th>8</th>\n",
       "      <td>spam</td>\n",
       "      <td>WINNER!! As a valued network customer you have...</td>\n",
       "    </tr>\n",
       "    <tr>\n",
       "      <th>9</th>\n",
       "      <td>spam</td>\n",
       "      <td>Had your mobile 11 months or more? U R entitle...</td>\n",
       "    </tr>\n",
       "    <tr>\n",
       "      <th>11</th>\n",
       "      <td>spam</td>\n",
       "      <td>SIX chances to win CASH! From 100 to 20,000 po...</td>\n",
       "    </tr>\n",
       "  </tbody>\n",
       "</table>\n",
       "</div>"
      ],
      "text/plain": [
       "    Type                                               Text\n",
       "2   spam  Free entry in 2 a wkly comp to win FA Cup fina...\n",
       "5   spam  FreeMsg Hey there darling it's been 3 week's n...\n",
       "8   spam  WINNER!! As a valued network customer you have...\n",
       "9   spam  Had your mobile 11 months or more? U R entitle...\n",
       "11  spam  SIX chances to win CASH! From 100 to 20,000 po..."
      ]
     },
     "execution_count": 14,
     "metadata": {},
     "output_type": "execute_result"
    }
   ],
   "source": [
    "spam=df[df['Type']=='spam']\n",
    "spam.head()"
   ]
  },
  {
   "cell_type": "markdown",
   "metadata": {},
   "source": [
    "### Randomly selecting 747 sets from Ham"
   ]
  },
  {
   "cell_type": "code",
   "execution_count": 15,
   "metadata": {},
   "outputs": [],
   "source": [
    "ham=ham.sample(747)"
   ]
  },
  {
   "cell_type": "code",
   "execution_count": 16,
   "metadata": {},
   "outputs": [
    {
     "data": {
      "text/plain": [
       "((747, 2), (747, 2))"
      ]
     },
     "execution_count": 16,
     "metadata": {},
     "output_type": "execute_result"
    }
   ],
   "source": [
    "ham.shape, spam.shape"
   ]
  },
  {
   "cell_type": "code",
   "execution_count": 17,
   "metadata": {},
   "outputs": [],
   "source": [
    "data=ham.append(spam,ignore_index=True)"
   ]
  },
  {
   "cell_type": "code",
   "execution_count": 18,
   "metadata": {},
   "outputs": [
    {
     "data": {
      "text/html": [
       "<div>\n",
       "<style scoped>\n",
       "    .dataframe tbody tr th:only-of-type {\n",
       "        vertical-align: middle;\n",
       "    }\n",
       "\n",
       "    .dataframe tbody tr th {\n",
       "        vertical-align: top;\n",
       "    }\n",
       "\n",
       "    .dataframe thead th {\n",
       "        text-align: right;\n",
       "    }\n",
       "</style>\n",
       "<table border=\"1\" class=\"dataframe\">\n",
       "  <thead>\n",
       "    <tr style=\"text-align: right;\">\n",
       "      <th></th>\n",
       "      <th>Type</th>\n",
       "      <th>Text</th>\n",
       "    </tr>\n",
       "  </thead>\n",
       "  <tbody>\n",
       "    <tr>\n",
       "      <th>0</th>\n",
       "      <td>ham</td>\n",
       "      <td>Okey dokey, iÛ÷ll be over in a bit just sorti...</td>\n",
       "    </tr>\n",
       "    <tr>\n",
       "      <th>1</th>\n",
       "      <td>ham</td>\n",
       "      <td>K.. I yan jiu liao... Sat we can go 4 bugis vi...</td>\n",
       "    </tr>\n",
       "    <tr>\n",
       "      <th>2</th>\n",
       "      <td>ham</td>\n",
       "      <td>\\YEH I AM DEF UP4 SOMETHING SAT</td>\n",
       "    </tr>\n",
       "    <tr>\n",
       "      <th>3</th>\n",
       "      <td>ham</td>\n",
       "      <td>You have registered Sinco as Payee. Log in at ...</td>\n",
       "    </tr>\n",
       "    <tr>\n",
       "      <th>4</th>\n",
       "      <td>ham</td>\n",
       "      <td>What happen dear. Why you silent. I am tensed</td>\n",
       "    </tr>\n",
       "  </tbody>\n",
       "</table>\n",
       "</div>"
      ],
      "text/plain": [
       "  Type                                               Text\n",
       "0  ham  Okey dokey, iÛ÷ll be over in a bit just sorti...\n",
       "1  ham  K.. I yan jiu liao... Sat we can go 4 bugis vi...\n",
       "2  ham                    \\YEH I AM DEF UP4 SOMETHING SAT\n",
       "3  ham  You have registered Sinco as Payee. Log in at ...\n",
       "4  ham      What happen dear. Why you silent. I am tensed"
      ]
     },
     "execution_count": 18,
     "metadata": {},
     "output_type": "execute_result"
    }
   ],
   "source": [
    "data.head()"
   ]
  },
  {
   "cell_type": "code",
   "execution_count": 19,
   "metadata": {},
   "outputs": [
    {
     "data": {
      "text/html": [
       "<div>\n",
       "<style scoped>\n",
       "    .dataframe tbody tr th:only-of-type {\n",
       "        vertical-align: middle;\n",
       "    }\n",
       "\n",
       "    .dataframe tbody tr th {\n",
       "        vertical-align: top;\n",
       "    }\n",
       "\n",
       "    .dataframe thead th {\n",
       "        text-align: right;\n",
       "    }\n",
       "</style>\n",
       "<table border=\"1\" class=\"dataframe\">\n",
       "  <thead>\n",
       "    <tr style=\"text-align: right;\">\n",
       "      <th></th>\n",
       "      <th>Type</th>\n",
       "      <th>Text</th>\n",
       "    </tr>\n",
       "  </thead>\n",
       "  <tbody>\n",
       "    <tr>\n",
       "      <th>1489</th>\n",
       "      <td>spam</td>\n",
       "      <td>Want explicit SEX in 30 secs? Ring 02073162414...</td>\n",
       "    </tr>\n",
       "    <tr>\n",
       "      <th>1490</th>\n",
       "      <td>spam</td>\n",
       "      <td>ASKED 3MOBILE IF 0870 CHATLINES INCLU IN FREE ...</td>\n",
       "    </tr>\n",
       "    <tr>\n",
       "      <th>1491</th>\n",
       "      <td>spam</td>\n",
       "      <td>Had your contract mobile 11 Mnths? Latest Moto...</td>\n",
       "    </tr>\n",
       "    <tr>\n",
       "      <th>1492</th>\n",
       "      <td>spam</td>\n",
       "      <td>REMINDER FROM O2: To get 2.50 pounds free call...</td>\n",
       "    </tr>\n",
       "    <tr>\n",
       "      <th>1493</th>\n",
       "      <td>spam</td>\n",
       "      <td>This is the 2nd time we have tried 2 contact u...</td>\n",
       "    </tr>\n",
       "  </tbody>\n",
       "</table>\n",
       "</div>"
      ],
      "text/plain": [
       "      Type                                               Text\n",
       "1489  spam  Want explicit SEX in 30 secs? Ring 02073162414...\n",
       "1490  spam  ASKED 3MOBILE IF 0870 CHATLINES INCLU IN FREE ...\n",
       "1491  spam  Had your contract mobile 11 Mnths? Latest Moto...\n",
       "1492  spam  REMINDER FROM O2: To get 2.50 pounds free call...\n",
       "1493  spam  This is the 2nd time we have tried 2 contact u..."
      ]
     },
     "execution_count": 19,
     "metadata": {},
     "output_type": "execute_result"
    }
   ],
   "source": [
    "data.tail()"
   ]
  },
  {
   "cell_type": "markdown",
   "metadata": {},
   "source": [
    "### Creating few features"
   ]
  },
  {
   "cell_type": "code",
   "execution_count": 65,
   "metadata": {},
   "outputs": [
    {
     "data": {
      "text/html": [
       "<div>\n",
       "<style scoped>\n",
       "    .dataframe tbody tr th:only-of-type {\n",
       "        vertical-align: middle;\n",
       "    }\n",
       "\n",
       "    .dataframe tbody tr th {\n",
       "        vertical-align: top;\n",
       "    }\n",
       "\n",
       "    .dataframe thead th {\n",
       "        text-align: right;\n",
       "    }\n",
       "</style>\n",
       "<table border=\"1\" class=\"dataframe\">\n",
       "  <thead>\n",
       "    <tr style=\"text-align: right;\">\n",
       "      <th></th>\n",
       "      <th>Type</th>\n",
       "      <th>Text</th>\n",
       "      <th>wordcount</th>\n",
       "    </tr>\n",
       "  </thead>\n",
       "  <tbody>\n",
       "    <tr>\n",
       "      <th>737</th>\n",
       "      <td>ham</td>\n",
       "      <td>I have no money 4 steve mate! !</td>\n",
       "      <td>8</td>\n",
       "    </tr>\n",
       "    <tr>\n",
       "      <th>476</th>\n",
       "      <td>ham</td>\n",
       "      <td>I'm fine. Hope you are good. Do take care.</td>\n",
       "      <td>9</td>\n",
       "    </tr>\n",
       "    <tr>\n",
       "      <th>1165</th>\n",
       "      <td>spam</td>\n",
       "      <td>LORD OF THE RINGS:RETURN OF THE KING in store ...</td>\n",
       "      <td>27</td>\n",
       "    </tr>\n",
       "    <tr>\n",
       "      <th>1458</th>\n",
       "      <td>spam</td>\n",
       "      <td>If you don't, your prize will go to another cu...</td>\n",
       "      <td>27</td>\n",
       "    </tr>\n",
       "    <tr>\n",
       "      <th>835</th>\n",
       "      <td>spam</td>\n",
       "      <td>XCLUSIVE@CLUBSAISAI 2MOROW 28/5 SOIREE SPECIAL...</td>\n",
       "      <td>17</td>\n",
       "    </tr>\n",
       "  </tbody>\n",
       "</table>\n",
       "</div>"
      ],
      "text/plain": [
       "      Type                                               Text  wordcount\n",
       "737    ham                    I have no money 4 steve mate! !          8\n",
       "476    ham         I'm fine. Hope you are good. Do take care.          9\n",
       "1165  spam  LORD OF THE RINGS:RETURN OF THE KING in store ...         27\n",
       "1458  spam  If you don't, your prize will go to another cu...         27\n",
       "835   spam  XCLUSIVE@CLUBSAISAI 2MOROW 28/5 SOIREE SPECIAL...         17"
      ]
     },
     "execution_count": 65,
     "metadata": {},
     "output_type": "execute_result"
    }
   ],
   "source": [
    "data['wordcount']=data['Text'].apply(lambda x: len(str(x).split()))\n",
    "data.sample(5)"
   ]
  },
  {
   "cell_type": "code",
   "execution_count": 70,
   "metadata": {},
   "outputs": [
    {
     "data": {
      "text/html": [
       "<div>\n",
       "<style scoped>\n",
       "    .dataframe tbody tr th:only-of-type {\n",
       "        vertical-align: middle;\n",
       "    }\n",
       "\n",
       "    .dataframe tbody tr th {\n",
       "        vertical-align: top;\n",
       "    }\n",
       "\n",
       "    .dataframe thead th {\n",
       "        text-align: right;\n",
       "    }\n",
       "</style>\n",
       "<table border=\"1\" class=\"dataframe\">\n",
       "  <thead>\n",
       "    <tr style=\"text-align: right;\">\n",
       "      <th></th>\n",
       "      <th>Type</th>\n",
       "      <th>Text</th>\n",
       "      <th>wordcount</th>\n",
       "      <th>charcount</th>\n",
       "      <th>avewordlength</th>\n",
       "    </tr>\n",
       "  </thead>\n",
       "  <tbody>\n",
       "    <tr>\n",
       "      <th>1275</th>\n",
       "      <td>spam</td>\n",
       "      <td>Great NEW Offer - DOUBLE Mins &amp; DOUBLE Txt on ...</td>\n",
       "      <td>29</td>\n",
       "      <td>132</td>\n",
       "      <td>4.551724</td>\n",
       "    </tr>\n",
       "    <tr>\n",
       "      <th>559</th>\n",
       "      <td>ham</td>\n",
       "      <td>Ard 515 like dat. Y?</td>\n",
       "      <td>5</td>\n",
       "      <td>16</td>\n",
       "      <td>3.200000</td>\n",
       "    </tr>\n",
       "    <tr>\n",
       "      <th>620</th>\n",
       "      <td>ham</td>\n",
       "      <td>Yes. Last  practice</td>\n",
       "      <td>3</td>\n",
       "      <td>16</td>\n",
       "      <td>5.333333</td>\n",
       "    </tr>\n",
       "    <tr>\n",
       "      <th>270</th>\n",
       "      <td>ham</td>\n",
       "      <td>Yes ammae....life takes lot of turns you can o...</td>\n",
       "      <td>16</td>\n",
       "      <td>70</td>\n",
       "      <td>4.375000</td>\n",
       "    </tr>\n",
       "    <tr>\n",
       "      <th>1420</th>\n",
       "      <td>spam</td>\n",
       "      <td>CDs 4u: Congratulations ur awarded å£500 of CD...</td>\n",
       "      <td>26</td>\n",
       "      <td>143</td>\n",
       "      <td>5.500000</td>\n",
       "    </tr>\n",
       "  </tbody>\n",
       "</table>\n",
       "</div>"
      ],
      "text/plain": [
       "      Type                                               Text  wordcount  \\\n",
       "1275  spam  Great NEW Offer - DOUBLE Mins & DOUBLE Txt on ...         29   \n",
       "559    ham                               Ard 515 like dat. Y?          5   \n",
       "620    ham                                Yes. Last  practice          3   \n",
       "270    ham  Yes ammae....life takes lot of turns you can o...         16   \n",
       "1420  spam  CDs 4u: Congratulations ur awarded å£500 of CD...         26   \n",
       "\n",
       "      charcount  avewordlength  \n",
       "1275        132       4.551724  \n",
       "559          16       3.200000  \n",
       "620          16       5.333333  \n",
       "270          70       4.375000  \n",
       "1420        143       5.500000  "
      ]
     },
     "execution_count": 70,
     "metadata": {},
     "output_type": "execute_result"
    }
   ],
   "source": [
    "def char_count(x):\n",
    "    s=x.split()\n",
    "    x=''.join(s)\n",
    "    return len(x)\n",
    "data['charcount']=data['Text'].apply(lambda x : char_count(str(x)))\n",
    "data['avewordlength']=data['charcount']/data['wordcount']\n",
    "data.sample(5)"
   ]
  },
  {
   "cell_type": "code",
   "execution_count": 72,
   "metadata": {},
   "outputs": [
    {
     "data": {
      "text/html": [
       "<div>\n",
       "<style scoped>\n",
       "    .dataframe tbody tr th:only-of-type {\n",
       "        vertical-align: middle;\n",
       "    }\n",
       "\n",
       "    .dataframe tbody tr th {\n",
       "        vertical-align: top;\n",
       "    }\n",
       "\n",
       "    .dataframe thead th {\n",
       "        text-align: right;\n",
       "    }\n",
       "</style>\n",
       "<table border=\"1\" class=\"dataframe\">\n",
       "  <thead>\n",
       "    <tr style=\"text-align: right;\">\n",
       "      <th></th>\n",
       "      <th>Type</th>\n",
       "      <th>Text</th>\n",
       "      <th>wordcount</th>\n",
       "      <th>charcount</th>\n",
       "      <th>avewordlength</th>\n",
       "    </tr>\n",
       "  </thead>\n",
       "  <tbody>\n",
       "    <tr>\n",
       "      <th>134</th>\n",
       "      <td>ham</td>\n",
       "      <td>What's up. Do you want me to come online?</td>\n",
       "      <td>9</td>\n",
       "      <td>33</td>\n",
       "      <td>3.666667</td>\n",
       "    </tr>\n",
       "    <tr>\n",
       "      <th>927</th>\n",
       "      <td>spam</td>\n",
       "      <td>You have 1 new voicemail. Please call 08719181503</td>\n",
       "      <td>8</td>\n",
       "      <td>42</td>\n",
       "      <td>5.250000</td>\n",
       "    </tr>\n",
       "    <tr>\n",
       "      <th>723</th>\n",
       "      <td>ham</td>\n",
       "      <td>Hi good mornin.. Thanku wish u d same..</td>\n",
       "      <td>8</td>\n",
       "      <td>32</td>\n",
       "      <td>4.000000</td>\n",
       "    </tr>\n",
       "    <tr>\n",
       "      <th>609</th>\n",
       "      <td>ham</td>\n",
       "      <td>Why are u up so early?</td>\n",
       "      <td>6</td>\n",
       "      <td>17</td>\n",
       "      <td>2.833333</td>\n",
       "    </tr>\n",
       "    <tr>\n",
       "      <th>1146</th>\n",
       "      <td>spam</td>\n",
       "      <td>Sorry! U can not unsubscribe yet. THE MOB offe...</td>\n",
       "      <td>28</td>\n",
       "      <td>121</td>\n",
       "      <td>4.321429</td>\n",
       "    </tr>\n",
       "  </tbody>\n",
       "</table>\n",
       "</div>"
      ],
      "text/plain": [
       "      Type                                               Text  wordcount  \\\n",
       "134    ham          What's up. Do you want me to come online?          9   \n",
       "927   spam  You have 1 new voicemail. Please call 08719181503          8   \n",
       "723    ham            Hi good mornin.. Thanku wish u d same..          8   \n",
       "609    ham                             Why are u up so early?          6   \n",
       "1146  spam  Sorry! U can not unsubscribe yet. THE MOB offe...         28   \n",
       "\n",
       "      charcount  avewordlength  \n",
       "134          33       3.666667  \n",
       "927          42       5.250000  \n",
       "723          32       4.000000  \n",
       "609          17       2.833333  \n",
       "1146        121       4.321429  "
      ]
     },
     "execution_count": 72,
     "metadata": {},
     "output_type": "execute_result"
    }
   ],
   "source": [
    "# Remove Accented Chars\n",
    "def remove_accented_chars(x):\n",
    "    x=unicodedata.normalize('NFKD',x).encode('ascii','ignore').decode('utf-8','ignore')\n",
    "    return x\n",
    "data['Text']=data['Text'].apply(lambda x: remove_accented_chars(x))\n",
    "data.sample(5)"
   ]
  },
  {
   "cell_type": "code",
   "execution_count": 90,
   "metadata": {},
   "outputs": [
    {
     "data": {
      "text/html": [
       "<div>\n",
       "<style scoped>\n",
       "    .dataframe tbody tr th:only-of-type {\n",
       "        vertical-align: middle;\n",
       "    }\n",
       "\n",
       "    .dataframe tbody tr th {\n",
       "        vertical-align: top;\n",
       "    }\n",
       "\n",
       "    .dataframe thead th {\n",
       "        text-align: right;\n",
       "    }\n",
       "</style>\n",
       "<table border=\"1\" class=\"dataframe\">\n",
       "  <thead>\n",
       "    <tr style=\"text-align: right;\">\n",
       "      <th></th>\n",
       "      <th>Type</th>\n",
       "      <th>Text</th>\n",
       "      <th>wordcount</th>\n",
       "      <th>charcount</th>\n",
       "      <th>avewordlength</th>\n",
       "      <th>phone</th>\n",
       "      <th>email</th>\n",
       "    </tr>\n",
       "  </thead>\n",
       "  <tbody>\n",
       "    <tr>\n",
       "      <th>894</th>\n",
       "      <td>spam</td>\n",
       "      <td>How about getting in touch with folks waiting ...</td>\n",
       "      <td>24</td>\n",
       "      <td>109</td>\n",
       "      <td>4.541667</td>\n",
       "      <td>0</td>\n",
       "      <td>0</td>\n",
       "    </tr>\n",
       "    <tr>\n",
       "      <th>1118</th>\n",
       "      <td>spam</td>\n",
       "      <td>Great NEW Offer - DOUBLE Mins &amp; DOUBLE Txt on ...</td>\n",
       "      <td>29</td>\n",
       "      <td>132</td>\n",
       "      <td>4.551724</td>\n",
       "      <td>1</td>\n",
       "      <td>0</td>\n",
       "    </tr>\n",
       "    <tr>\n",
       "      <th>333</th>\n",
       "      <td>ham</td>\n",
       "      <td>R I_ going 4 today's meeting?</td>\n",
       "      <td>6</td>\n",
       "      <td>24</td>\n",
       "      <td>4.000000</td>\n",
       "      <td>0</td>\n",
       "      <td>0</td>\n",
       "    </tr>\n",
       "    <tr>\n",
       "      <th>746</th>\n",
       "      <td>ham</td>\n",
       "      <td>No got new job at bar in airport on satsgettin...</td>\n",
       "      <td>20</td>\n",
       "      <td>75</td>\n",
       "      <td>3.750000</td>\n",
       "      <td>0</td>\n",
       "      <td>0</td>\n",
       "    </tr>\n",
       "    <tr>\n",
       "      <th>1381</th>\n",
       "      <td>spam</td>\n",
       "      <td>FREE GAME. Get Rayman Golf 4 FREE from the O2 ...</td>\n",
       "      <td>29</td>\n",
       "      <td>125</td>\n",
       "      <td>4.310345</td>\n",
       "      <td>0</td>\n",
       "      <td>0</td>\n",
       "    </tr>\n",
       "  </tbody>\n",
       "</table>\n",
       "</div>"
      ],
      "text/plain": [
       "      Type                                               Text  wordcount  \\\n",
       "894   spam  How about getting in touch with folks waiting ...         24   \n",
       "1118  spam  Great NEW Offer - DOUBLE Mins & DOUBLE Txt on ...         29   \n",
       "333    ham                      R I_ going 4 today's meeting?          6   \n",
       "746    ham  No got new job at bar in airport on satsgettin...         20   \n",
       "1381  spam  FREE GAME. Get Rayman Golf 4 FREE from the O2 ...         29   \n",
       "\n",
       "      charcount  avewordlength  phone  email  \n",
       "894         109       4.541667      0      0  \n",
       "1118        132       4.551724      1      0  \n",
       "333          24       4.000000      0      0  \n",
       "746          75       3.750000      0      0  \n",
       "1381        125       4.310345      0      0  "
      ]
     },
     "execution_count": 90,
     "metadata": {},
     "output_type": "execute_result"
    }
   ],
   "source": [
    "# Finding if there are any numbers found\n",
    "def phone_number(text):\n",
    "    t=[]\n",
    "    t=re.findall(r'\\d{6,15}',text)\n",
    "    if len(t)>0:\n",
    "        return len(t)\n",
    "    else:\n",
    "        return 0\n",
    "data['phone']=data['Text'].apply(lambda x: phone_number(x))\n",
    "data.sample(5)"
   ]
  },
  {
   "cell_type": "code",
   "execution_count": 91,
   "metadata": {},
   "outputs": [
    {
     "data": {
      "text/html": [
       "<div>\n",
       "<style scoped>\n",
       "    .dataframe tbody tr th:only-of-type {\n",
       "        vertical-align: middle;\n",
       "    }\n",
       "\n",
       "    .dataframe tbody tr th {\n",
       "        vertical-align: top;\n",
       "    }\n",
       "\n",
       "    .dataframe thead th {\n",
       "        text-align: right;\n",
       "    }\n",
       "</style>\n",
       "<table border=\"1\" class=\"dataframe\">\n",
       "  <thead>\n",
       "    <tr style=\"text-align: right;\">\n",
       "      <th></th>\n",
       "      <th>Type</th>\n",
       "      <th>Text</th>\n",
       "      <th>wordcount</th>\n",
       "      <th>charcount</th>\n",
       "      <th>avewordlength</th>\n",
       "      <th>phone</th>\n",
       "      <th>email</th>\n",
       "    </tr>\n",
       "  </thead>\n",
       "  <tbody>\n",
       "    <tr>\n",
       "      <th>181</th>\n",
       "      <td>ham</td>\n",
       "      <td>I got like $ &amp;lt;#&amp;gt; , I can get some more l...</td>\n",
       "      <td>18</td>\n",
       "      <td>68</td>\n",
       "      <td>3.777778</td>\n",
       "      <td>0</td>\n",
       "      <td>0</td>\n",
       "    </tr>\n",
       "    <tr>\n",
       "      <th>1149</th>\n",
       "      <td>spam</td>\n",
       "      <td>URGENT! Your mobile was awarded a a1,500 Bonus...</td>\n",
       "      <td>20</td>\n",
       "      <td>101</td>\n",
       "      <td>5.050000</td>\n",
       "      <td>1</td>\n",
       "      <td>0</td>\n",
       "    </tr>\n",
       "    <tr>\n",
       "      <th>552</th>\n",
       "      <td>ham</td>\n",
       "      <td>U wake up already? Thanx 4 e tau sar piah it's...</td>\n",
       "      <td>13</td>\n",
       "      <td>46</td>\n",
       "      <td>3.538462</td>\n",
       "      <td>0</td>\n",
       "      <td>0</td>\n",
       "    </tr>\n",
       "    <tr>\n",
       "      <th>608</th>\n",
       "      <td>ham</td>\n",
       "      <td>Doing nothing, then u not having dinner w us?</td>\n",
       "      <td>9</td>\n",
       "      <td>37</td>\n",
       "      <td>4.111111</td>\n",
       "      <td>0</td>\n",
       "      <td>0</td>\n",
       "    </tr>\n",
       "    <tr>\n",
       "      <th>385</th>\n",
       "      <td>ham</td>\n",
       "      <td>No objection. My bf not coming.</td>\n",
       "      <td>6</td>\n",
       "      <td>26</td>\n",
       "      <td>4.333333</td>\n",
       "      <td>0</td>\n",
       "      <td>0</td>\n",
       "    </tr>\n",
       "  </tbody>\n",
       "</table>\n",
       "</div>"
      ],
      "text/plain": [
       "      Type                                               Text  wordcount  \\\n",
       "181    ham  I got like $ &lt;#&gt; , I can get some more l...         18   \n",
       "1149  spam  URGENT! Your mobile was awarded a a1,500 Bonus...         20   \n",
       "552    ham  U wake up already? Thanx 4 e tau sar piah it's...         13   \n",
       "608    ham      Doing nothing, then u not having dinner w us?          9   \n",
       "385    ham                    No objection. My bf not coming.          6   \n",
       "\n",
       "      charcount  avewordlength  phone  email  \n",
       "181          68       3.777778      0      0  \n",
       "1149        101       5.050000      1      0  \n",
       "552          46       3.538462      0      0  \n",
       "608          37       4.111111      0      0  \n",
       "385          26       4.333333      0      0  "
      ]
     },
     "execution_count": 91,
     "metadata": {},
     "output_type": "execute_result"
    }
   ],
   "source": [
    "# Finding email\n",
    "def email(text):\n",
    "    t=[]\n",
    "    t=re.findall(r'[\\w]+@[\\w]+',text)\n",
    "    return len(t)\n",
    "data['email']=data['Text'].apply(lambda x: email(x))\n",
    "data.sample(5)"
   ]
  },
  {
   "cell_type": "code",
   "execution_count": 93,
   "metadata": {},
   "outputs": [],
   "source": [
    "# Making everything to lower case\n",
    "data['Text']=data['Text'].apply(lambda x:str(x).lower())"
   ]
  },
  {
   "cell_type": "code",
   "execution_count": 99,
   "metadata": {},
   "outputs": [
    {
     "data": {
      "text/plain": [
       "<matplotlib.axes._subplots.AxesSubplot at 0x7f24710a9890>"
      ]
     },
     "execution_count": 99,
     "metadata": {},
     "output_type": "execute_result"
    },
    {
     "data": {
      "image/png": "[encoded data removed]",
      "text/plain": [
       "<Figure size 720x360 with 1 Axes>"
      ]
     },
     "metadata": {
      "needs_background": "light"
     },
     "output_type": "display_data"
    }
   ],
   "source": [
    "#bigram analysis for ham messages\n",
    "\n",
    "def bigrams(corpus, n=None):\n",
    "    vec = CountVectorizer(ngram_range=(2, 2)).fit(corpus)\n",
    "    bag_of_words = vec.transform(corpus)\n",
    "    sum_words = bag_of_words.sum(axis=0) \n",
    "    words_freq = [(word, sum_words[0, idx]) for word, idx in vec.vocabulary_.items()]\n",
    "    words_freq =sorted(words_freq, key = lambda x: x[1], reverse=True)\n",
    "    return words_freq[:n]\n",
    "\n",
    "plt.figure(figsize=(10,5))\n",
    "bigrams1=bigrams(data[data['Type']=='ham']['Text'])[:10]\n",
    "x,y=map(list,zip(*bigrams1))\n",
    "sns.barplot(x=y,y=x)"
   ]
  },
  {
   "cell_type": "code",
   "execution_count": 100,
   "metadata": {},
   "outputs": [
    {
     "data": {
      "text/plain": [
       "<matplotlib.axes._subplots.AxesSubplot at 0x7f248815b9d0>"
      ]
     },
     "execution_count": 100,
     "metadata": {},
     "output_type": "execute_result"
    },
    {
     "data": {
      "image/png": "[encoded data removed]",
      "text/plain": [
       "<Figure size 720x360 with 1 Axes>"
      ]
     },
     "metadata": {
      "needs_background": "light"
     },
     "output_type": "display_data"
    }
   ],
   "source": [
    "#bigram analysis for spam messages\n",
    "\n",
    "plt.figure(figsize=(10,5))\n",
    "bigrams1=bigrams(data[data['Type']=='spam']['Text'])[:10]\n",
    "x,y=map(list,zip(*bigrams1))\n",
    "sns.barplot(x=y,y=x)"
   ]
  },
  {
   "cell_type": "code",
   "execution_count": 102,
   "metadata": {},
   "outputs": [
    {
     "data": {
      "text/plain": [
       "<matplotlib.axes._subplots.AxesSubplot at 0x7f247086f210>"
      ]
     },
     "execution_count": 102,
     "metadata": {},
     "output_type": "execute_result"
    },
    {
     "data": {
      "image/png": "[encoded data removed]",
      "text/plain": [
       "<Figure size 720x360 with 1 Axes>"
      ]
     },
     "metadata": {
      "needs_background": "light"
     },
     "output_type": "display_data"
    }
   ],
   "source": [
    "#trigram analysis for ham messages\n",
    "\n",
    "def trigrams(corpus, n=None):\n",
    "    vec = CountVectorizer(ngram_range=(3, 3)).fit(corpus)\n",
    "    bag_of_words = vec.transform(corpus)\n",
    "    sum_words = bag_of_words.sum(axis=0) \n",
    "    words_freq = [(word, sum_words[0, idx]) for word, idx in vec.vocabulary_.items()]\n",
    "    words_freq =sorted(words_freq, key = lambda x: x[1], reverse=True)\n",
    "    return words_freq[:n]\n",
    "\n",
    "plt.figure(figsize=(10,5))\n",
    "grams1=trigrams(data[data['Type']=='ham']['Text'])[:10]\n",
    "x,y=map(list,zip(*grams1))\n",
    "sns.barplot(x=y,y=x)"
   ]
  },
  {
   "cell_type": "code",
   "execution_count": 103,
   "metadata": {},
   "outputs": [
    {
     "data": {
      "text/plain": [
       "<matplotlib.axes._subplots.AxesSubplot at 0x7f24706dfdd0>"
      ]
     },
     "execution_count": 103,
     "metadata": {},
     "output_type": "execute_result"
    },
    {
     "data": {
      "image/png": "[encoded data removed]",
      "text/plain": [
       "<Figure size 720x360 with 1 Axes>"
      ]
     },
     "metadata": {
      "needs_background": "light"
     },
     "output_type": "display_data"
    }
   ],
   "source": [
    "#trigram analysis for spam messages\n",
    "\n",
    "plt.figure(figsize=(10,5))\n",
    "grams1=trigrams(data[data['Type']=='spam']['Text'])[:10]\n",
    "x,y=map(list,zip(*grams1))\n",
    "sns.barplot(x=y,y=x)"
   ]
  },
  {
   "cell_type": "code",
   "execution_count": 134,
   "metadata": {},
   "outputs": [
    {
     "data": {
      "text/html": [
       "<div>\n",
       "<style scoped>\n",
       "    .dataframe tbody tr th:only-of-type {\n",
       "        vertical-align: middle;\n",
       "    }\n",
       "\n",
       "    .dataframe tbody tr th {\n",
       "        vertical-align: top;\n",
       "    }\n",
       "\n",
       "    .dataframe thead th {\n",
       "        text-align: right;\n",
       "    }\n",
       "</style>\n",
       "<table border=\"1\" class=\"dataframe\">\n",
       "  <thead>\n",
       "    <tr style=\"text-align: right;\">\n",
       "      <th></th>\n",
       "      <th>Type</th>\n",
       "      <th>Text</th>\n",
       "      <th>wordcount</th>\n",
       "      <th>charcount</th>\n",
       "      <th>avewordlength</th>\n",
       "      <th>phone</th>\n",
       "      <th>email</th>\n",
       "      <th>spamgrams</th>\n",
       "      <th>hamgrams</th>\n",
       "    </tr>\n",
       "  </thead>\n",
       "  <tbody>\n",
       "    <tr>\n",
       "      <th>32</th>\n",
       "      <td>ham</td>\n",
       "      <td>ambrith..madurai..met u in arun dha marrge..re...</td>\n",
       "      <td>6</td>\n",
       "      <td>47</td>\n",
       "      <td>7.833333</td>\n",
       "      <td>0</td>\n",
       "      <td>0</td>\n",
       "      <td>0</td>\n",
       "      <td>0</td>\n",
       "    </tr>\n",
       "    <tr>\n",
       "      <th>1468</th>\n",
       "      <td>spam</td>\n",
       "      <td>important message. this is a final contact att...</td>\n",
       "      <td>23</td>\n",
       "      <td>134</td>\n",
       "      <td>5.826087</td>\n",
       "      <td>1</td>\n",
       "      <td>0</td>\n",
       "      <td>1</td>\n",
       "      <td>0</td>\n",
       "    </tr>\n",
       "    <tr>\n",
       "      <th>299</th>\n",
       "      <td>ham</td>\n",
       "      <td>some friends want me to drive em someplace, pr...</td>\n",
       "      <td>12</td>\n",
       "      <td>54</td>\n",
       "      <td>4.500000</td>\n",
       "      <td>0</td>\n",
       "      <td>0</td>\n",
       "      <td>0</td>\n",
       "      <td>0</td>\n",
       "    </tr>\n",
       "    <tr>\n",
       "      <th>1027</th>\n",
       "      <td>spam</td>\n",
       "      <td>themob&gt;yo yo yo-here comes a new selection of ...</td>\n",
       "      <td>28</td>\n",
       "      <td>116</td>\n",
       "      <td>4.142857</td>\n",
       "      <td>0</td>\n",
       "      <td>0</td>\n",
       "      <td>0</td>\n",
       "      <td>0</td>\n",
       "    </tr>\n",
       "    <tr>\n",
       "      <th>547</th>\n",
       "      <td>ham</td>\n",
       "      <td>aathi..where are you dear..</td>\n",
       "      <td>4</td>\n",
       "      <td>24</td>\n",
       "      <td>6.000000</td>\n",
       "      <td>0</td>\n",
       "      <td>0</td>\n",
       "      <td>0</td>\n",
       "      <td>1</td>\n",
       "    </tr>\n",
       "  </tbody>\n",
       "</table>\n",
       "</div>"
      ],
      "text/plain": [
       "      Type                                               Text  wordcount  \\\n",
       "32     ham  ambrith..madurai..met u in arun dha marrge..re...          6   \n",
       "1468  spam  important message. this is a final contact att...         23   \n",
       "299    ham  some friends want me to drive em someplace, pr...         12   \n",
       "1027  spam  themob>yo yo yo-here comes a new selection of ...         28   \n",
       "547    ham                        aathi..where are you dear..          4   \n",
       "\n",
       "      charcount  avewordlength  phone  email  spamgrams  hamgrams  \n",
       "32           47       7.833333      0      0          0         0  \n",
       "1468        134       5.826087      1      0          1         0  \n",
       "299          54       4.500000      0      0          0         0  \n",
       "1027        116       4.142857      0      0          0         0  \n",
       "547          24       6.000000      0      0          0         1  "
      ]
     },
     "execution_count": 134,
     "metadata": {},
     "output_type": "execute_result"
    }
   ],
   "source": [
    "def ham_grams(text):\n",
    "    \n",
    "    doc=nlp(text)\n",
    "    \n",
    "    pattern1=[{\"LOWER\":\"how\",'OP':'?'},{\"LOWER\":\"are\"},{\"LOWER\":\"you\"}]\n",
    "    matcher1=Matcher(nlp.vocab)\n",
    "    matcher1.add(\"Example\", None, pattern1)\n",
    "    matches1=matcher1(doc)\n",
    "    \n",
    "    pattern2=[{\"LOWER\":\"it\"},{\"LOWER\":\"gt\"}]\n",
    "    matcher2=Matcher(nlp.vocab)\n",
    "    matcher2.add(\"Example\", None, pattern2)\n",
    "    matches2=matcher(doc)\n",
    "    \n",
    "    pattern3=[{\"LOWER\":\"do\"},{\"LOWER\":\"you\"}]\n",
    "    matcher3=Matcher(nlp.vocab)\n",
    "    matcher3.add(\"Example\", None, pattern3)\n",
    "    matches3=matcher(doc)\n",
    "    \n",
    "    pattern4=[{\"LOWER\":\"if\"},{\"LOWER\":\"you\"}]\n",
    "    matcher4=Matcher(nlp.vocab)\n",
    "    matcher4.add(\"Example\", None, pattern4)\n",
    "    matches4=matcher(doc)\n",
    "    \n",
    "    pattern5=[{\"LOWER\":\"you\"},{\"LOWER\":\"know\"}]\n",
    "    matcher5=Matcher(nlp.vocab)\n",
    "    matcher5.add(\"Example\", None, pattern5)\n",
    "    matches5=matcher(doc)\n",
    "    \n",
    "    return len(matches1)+len(matches2)+len(matches3)+len(matches4)+len(matches5)\n",
    "\n",
    "data['hamgrams']=data['Text'].apply(lambda x: ham_grams(x))\n",
    "data.sample(5)"
   ]
  },
  {
   "cell_type": "code",
   "execution_count": 133,
   "metadata": {},
   "outputs": [
    {
     "data": {
      "text/html": [
       "<div>\n",
       "<style scoped>\n",
       "    .dataframe tbody tr th:only-of-type {\n",
       "        vertical-align: middle;\n",
       "    }\n",
       "\n",
       "    .dataframe tbody tr th {\n",
       "        vertical-align: top;\n",
       "    }\n",
       "\n",
       "    .dataframe thead th {\n",
       "        text-align: right;\n",
       "    }\n",
       "</style>\n",
       "<table border=\"1\" class=\"dataframe\">\n",
       "  <thead>\n",
       "    <tr style=\"text-align: right;\">\n",
       "      <th></th>\n",
       "      <th>Type</th>\n",
       "      <th>Text</th>\n",
       "      <th>wordcount</th>\n",
       "      <th>charcount</th>\n",
       "      <th>avewordlength</th>\n",
       "      <th>phone</th>\n",
       "      <th>email</th>\n",
       "      <th>spamgrams</th>\n",
       "      <th>hamgrams</th>\n",
       "    </tr>\n",
       "  </thead>\n",
       "  <tbody>\n",
       "    <tr>\n",
       "      <th>483</th>\n",
       "      <td>ham</td>\n",
       "      <td>1apple/day=no doctor. 1tulsi leaf/day=no cance...</td>\n",
       "      <td>21</td>\n",
       "      <td>134</td>\n",
       "      <td>6.380952</td>\n",
       "      <td>0</td>\n",
       "      <td>0</td>\n",
       "      <td>0</td>\n",
       "      <td>0</td>\n",
       "    </tr>\n",
       "    <tr>\n",
       "      <th>479</th>\n",
       "      <td>ham</td>\n",
       "      <td>lol! nah wasn't too bad thanks. its good to b ...</td>\n",
       "      <td>28</td>\n",
       "      <td>109</td>\n",
       "      <td>3.892857</td>\n",
       "      <td>0</td>\n",
       "      <td>0</td>\n",
       "      <td>0</td>\n",
       "      <td>0</td>\n",
       "    </tr>\n",
       "    <tr>\n",
       "      <th>1179</th>\n",
       "      <td>spam</td>\n",
       "      <td>urgent! we are trying to contact u. todays dra...</td>\n",
       "      <td>28</td>\n",
       "      <td>132</td>\n",
       "      <td>4.714286</td>\n",
       "      <td>1</td>\n",
       "      <td>0</td>\n",
       "      <td>2</td>\n",
       "      <td>0</td>\n",
       "    </tr>\n",
       "    <tr>\n",
       "      <th>690</th>\n",
       "      <td>ham</td>\n",
       "      <td>that's significant but dont worry.</td>\n",
       "      <td>5</td>\n",
       "      <td>30</td>\n",
       "      <td>6.000000</td>\n",
       "      <td>0</td>\n",
       "      <td>0</td>\n",
       "      <td>0</td>\n",
       "      <td>0</td>\n",
       "    </tr>\n",
       "    <tr>\n",
       "      <th>109</th>\n",
       "      <td>ham</td>\n",
       "      <td>i'm home. doc gave me pain meds says everythin...</td>\n",
       "      <td>11</td>\n",
       "      <td>46</td>\n",
       "      <td>4.181818</td>\n",
       "      <td>0</td>\n",
       "      <td>0</td>\n",
       "      <td>0</td>\n",
       "      <td>0</td>\n",
       "    </tr>\n",
       "  </tbody>\n",
       "</table>\n",
       "</div>"
      ],
      "text/plain": [
       "      Type                                               Text  wordcount  \\\n",
       "483    ham  1apple/day=no doctor. 1tulsi leaf/day=no cance...         21   \n",
       "479    ham  lol! nah wasn't too bad thanks. its good to b ...         28   \n",
       "1179  spam  urgent! we are trying to contact u. todays dra...         28   \n",
       "690    ham                 that's significant but dont worry.          5   \n",
       "109    ham  i'm home. doc gave me pain meds says everythin...         11   \n",
       "\n",
       "      charcount  avewordlength  phone  email  spamgrams  hamgrams  \n",
       "483         134       6.380952      0      0          0         0  \n",
       "479         109       3.892857      0      0          0         0  \n",
       "1179        132       4.714286      1      0          2         0  \n",
       "690          30       6.000000      0      0          0         0  \n",
       "109          46       4.181818      0      0          0         0  "
      ]
     },
     "execution_count": 133,
     "metadata": {},
     "output_type": "execute_result"
    }
   ],
   "source": [
    "def spam_grams(text):\n",
    "    \n",
    "    doc=nlp(text)\n",
    "    \n",
    "    pattern1=[{\"LOWER\":\"you\"},{\"LOWER\":\"have\"},{\"LOWER\":\"won\",'OP':'?'}]\n",
    "    matcher1=Matcher(nlp.vocab)\n",
    "    matcher1.add(\"Example\", None, pattern1)\n",
    "    matches1=matcher1(doc)\n",
    "    \n",
    "    pattern2=[{\"LOWER\":\"your\"},{\"LOWER\":\"mobile\"}]\n",
    "    matcher2=Matcher(nlp.vocab)\n",
    "    matcher2.add(\"Example\", None, pattern2)\n",
    "    matches2=matcher(doc)\n",
    "    \n",
    "    pattern3=[{\"LOWER\":\"to\"},{\"LOWER\":\"claim\"}]\n",
    "    matcher3=Matcher(nlp.vocab)\n",
    "    matcher3.add(\"Example\", None, pattern3)\n",
    "    matches3=matcher(doc)\n",
    "    \n",
    "    pattern4=[{\"LOWER\":\"please\"},{\"LOWER\":\"call\"}]\n",
    "    matcher4=Matcher(nlp.vocab)\n",
    "    matcher4.add(\"Example\", None, pattern4)\n",
    "    matches4=matcher(doc)\n",
    "    \n",
    "    pattern5=[{\"LOWER\":\"sex\"}]\n",
    "    matcher5=Matcher(nlp.vocab)\n",
    "    matcher5.add(\"Example\", None, pattern5)\n",
    "    matches5=matcher(doc)\n",
    "    \n",
    "    return len(matches1)+len(matches2)+len(matches3)+len(matches4)+len(matches5)\n",
    "\n",
    "data['spamgrams']=data['Text'].apply(lambda x: spam_grams(x))\n",
    "data.sample(5)"
   ]
  },
  {
   "cell_type": "markdown",
   "metadata": {},
   "source": [
    "### Data preparation"
   ]
  },
  {
   "cell_type": "code",
   "execution_count": 223,
   "metadata": {},
   "outputs": [],
   "source": [
    "X=data.drop(['Type'],1)\n",
    "y=data['Type']"
   ]
  },
  {
   "cell_type": "code",
   "execution_count": 224,
   "metadata": {},
   "outputs": [],
   "source": [
    "num_cols=['wordcount','charcount','avewordlength','phone','email','spamgrams','hamgrams']\n",
    "transformer=make_column_transformer((StandardScaler(),num_cols),(TfidfVectorizer(),'Text'),remainder='passthrough')"
   ]
  },
  {
   "cell_type": "code",
   "execution_count": 228,
   "metadata": {},
   "outputs": [],
   "source": [
    "X_train,X_test,y_train,y_test=train_test_split(X,y,test_size=0.3,random_state=0,shuffle=True,stratify=y)"
   ]
  },
  {
   "cell_type": "markdown",
   "metadata": {},
   "source": [
    "### Bag of words"
   ]
  },
  {
   "cell_type": "code",
   "execution_count": 229,
   "metadata": {},
   "outputs": [],
   "source": [
    "vectorizer=TfidfVectorizer()"
   ]
  },
  {
   "cell_type": "code",
   "execution_count": 230,
   "metadata": {},
   "outputs": [],
   "source": [
    "X_trainvec=vectorizer.fit_transform(X_train['Text'])"
   ]
  },
  {
   "cell_type": "code",
   "execution_count": 231,
   "metadata": {},
   "outputs": [
    {
     "data": {
      "text/plain": [
       "<1045x3750 sparse matrix of type '<class 'numpy.float64'>'\n",
       "\twith 17869 stored elements in Compressed Sparse Row format>"
      ]
     },
     "execution_count": 231,
     "metadata": {},
     "output_type": "execute_result"
    }
   ],
   "source": [
    "X_trainvec"
   ]
  },
  {
   "cell_type": "markdown",
   "metadata": {},
   "source": [
    "### Model"
   ]
  },
  {
   "cell_type": "markdown",
   "metadata": {},
   "source": [
    "I Have used Linear models like Logistic Regression in this project as it was giving better f1 scores. \n",
    "Since the input data is very sparse, it was expected that linear models will perform better in such cases."
   ]
  },
  {
   "cell_type": "code",
   "execution_count": 232,
   "metadata": {},
   "outputs": [],
   "source": [
    "clf=Pipeline([('transformer',transformer),('clf',LogisticRegression())])"
   ]
  },
  {
   "cell_type": "code",
   "execution_count": 233,
   "metadata": {},
   "outputs": [
    {
     "name": "stderr",
     "output_type": "stream",
     "text": [
      "/home/suryanarayanan/anaconda3/lib/python3.7/site-packages/sklearn/linear_model/logistic.py:432: FutureWarning: Default solver will be changed to 'lbfgs' in 0.22. Specify a solver to silence this warning.\n",
      "  FutureWarning)\n"
     ]
    },
    {
     "data": {
      "text/plain": [
       "Pipeline(memory=None,\n",
       "         steps=[('transformer',\n",
       "                 ColumnTransformer(n_jobs=None, remainder='passthrough',\n",
       "                                   sparse_threshold=0.3,\n",
       "                                   transformer_weights=None,\n",
       "                                   transformers=[('standardscaler',\n",
       "                                                  StandardScaler(copy=True,\n",
       "                                                                 with_mean=True,\n",
       "                                                                 with_std=True),\n",
       "                                                  ['wordcount', 'charcount',\n",
       "                                                   'avewordlength', 'phone',\n",
       "                                                   'email', 'spamgrams',\n",
       "                                                   'hamgrams']),\n",
       "                                                 ('tfidfvectorizer',\n",
       "                                                  TfidfVectorizer(ana...\n",
       "                                                                  token_pattern='(?u)\\\\b\\\\w\\\\w+\\\\b',\n",
       "                                                                  tokenizer=None,\n",
       "                                                                  use_idf=True,\n",
       "                                                                  vocabulary=None),\n",
       "                                                  'Text')],\n",
       "                                   verbose=False)),\n",
       "                ('clf',\n",
       "                 LogisticRegression(C=1.0, class_weight=None, dual=False,\n",
       "                                    fit_intercept=True, intercept_scaling=1,\n",
       "                                    l1_ratio=None, max_iter=100,\n",
       "                                    multi_class='warn', n_jobs=None,\n",
       "                                    penalty='l2', random_state=None,\n",
       "                                    solver='warn', tol=0.0001, verbose=0,\n",
       "                                    warm_start=False))],\n",
       "         verbose=False)"
      ]
     },
     "execution_count": 233,
     "metadata": {},
     "output_type": "execute_result"
    }
   ],
   "source": [
    "clf.fit(X_train,y_train)"
   ]
  },
  {
   "cell_type": "code",
   "execution_count": 234,
   "metadata": {},
   "outputs": [],
   "source": [
    "y_pred=clf.predict(X_test)"
   ]
  },
  {
   "cell_type": "code",
   "execution_count": 235,
   "metadata": {},
   "outputs": [
    {
     "data": {
      "text/plain": [
       "array([[218,   7],\n",
       "       [ 16, 208]])"
      ]
     },
     "execution_count": 235,
     "metadata": {},
     "output_type": "execute_result"
    }
   ],
   "source": [
    "confusion_matrix(y_test,y_pred)"
   ]
  },
  {
   "cell_type": "code",
   "execution_count": 236,
   "metadata": {},
   "outputs": [
    {
     "data": {
      "text/plain": [
       "0.9487750556792873"
      ]
     },
     "execution_count": 236,
     "metadata": {},
     "output_type": "execute_result"
    }
   ],
   "source": [
    "accuracy_score(y_test,y_pred)"
   ]
  },
  {
   "cell_type": "code",
   "execution_count": 237,
   "metadata": {},
   "outputs": [
    {
     "name": "stdout",
     "output_type": "stream",
     "text": [
      "              precision    recall  f1-score   support\n",
      "\n",
      "         ham       0.93      0.97      0.95       225\n",
      "        spam       0.97      0.93      0.95       224\n",
      "\n",
      "    accuracy                           0.95       449\n",
      "   macro avg       0.95      0.95      0.95       449\n",
      "weighted avg       0.95      0.95      0.95       449\n",
      "\n"
     ]
    }
   ],
   "source": [
    "print(classification_report(y_test,y_pred))"
   ]
  },
  {
   "cell_type": "markdown",
   "metadata": {},
   "source": [
    "### Testing on some common examples"
   ]
  },
  {
   "cell_type": "code",
   "execution_count": 250,
   "metadata": {},
   "outputs": [],
   "source": [
    "def predictions(text):\n",
    "    df=pd.DataFrame([text],columns=['Text'])\n",
    "    df['wordcount']=df['Text'].apply(lambda x: len(str(x).split()))\n",
    "    df['charcount']=df['Text'].apply(lambda x : char_count(str(x)))\n",
    "    df['avewordlength']=df['charcount']/df['wordcount']\n",
    "    df['Text']=df['Text'].apply(lambda x: remove_accented_chars(x))\n",
    "    df['phone']=df['Text'].apply(lambda x: phone_number(x))\n",
    "    df['email']=df['Text'].apply(lambda x: email(x))\n",
    "    df['Text']=df['Text'].apply(lambda x:str(x).lower())\n",
    "    df['hamgrams']=df['Text'].apply(lambda x: ham_grams(x))\n",
    "    df['spamgrams']=df['Text'].apply(lambda x: spam_grams(x))\n",
    "    return df"
   ]
  },
  {
   "cell_type": "code",
   "execution_count": 249,
   "metadata": {},
   "outputs": [
    {
     "data": {
      "text/plain": [
       "array(['spam'], dtype=object)"
      ]
     },
     "execution_count": 249,
     "metadata": {},
     "output_type": "execute_result"
    }
   ],
   "source": [
    "X_t=predictions(\"Free entry in 2 a wkly comp to win FA Cup final tkts 21st May 2005. call 98888888855\")\n",
    "clf.predict(X_t)"
   ]
  },
  {
   "cell_type": "code",
   "execution_count": 61,
   "metadata": {},
   "outputs": [
    {
     "data": {
      "text/plain": [
       "array(['spam'], dtype=object)"
      ]
     },
     "execution_count": 61,
     "metadata": {},
     "output_type": "execute_result"
    }
   ],
   "source": [
    "clf.predict(['Congratulations, you have won the free tickets to USA.Text WON\" to 54554'])"
   ]
  },
  {
   "cell_type": "code",
   "execution_count": 247,
   "metadata": {},
   "outputs": [
    {
     "data": {
      "text/plain": [
       "array(['ham'], dtype=object)"
      ]
     },
     "execution_count": 247,
     "metadata": {},
     "output_type": "execute_result"
    }
   ],
   "source": [
    "X_t=predictions('Hi man, I was wondering if we can meet tomorrow.')\n",
    "clf.predict(X_t)"
   ]
  },
  {
   "cell_type": "markdown",
   "metadata": {},
   "source": [
    "\n"
   ]
  }
 ],
 "metadata": {
  "kernelspec": {
   "display_name": "Python 3",
   "language": "python",
   "name": "python3"
  },
  "language_info": {
   "codemirror_mode": {
    "name": "ipython",
    "version": 3
   },
   "file_extension": ".py",
   "mimetype": "text/x-python",
   "name": "python",
   "nbconvert_exporter": "python",
   "pygments_lexer": "ipython3",
   "version": "3.7.6"
  }
 },
 "nbformat": 4,
 "nbformat_minor": 2
}
